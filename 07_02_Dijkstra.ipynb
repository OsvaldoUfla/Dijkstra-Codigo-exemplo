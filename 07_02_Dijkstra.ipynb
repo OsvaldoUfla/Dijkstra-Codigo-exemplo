{
  "nbformat": 4,
  "nbformat_minor": 0,
  "metadata": {
    "colab": {
      "provenance": [],
      "include_colab_link": true
    },
    "kernelspec": {
      "name": "python3",
      "display_name": "Python 3"
    },
    "language_info": {
      "name": "python"
    }
  },
  "cells": [
    {
      "cell_type": "markdown",
      "metadata": {
        "id": "view-in-github",
        "colab_type": "text"
      },
      "source": [
        "<a href=\"https://colab.research.google.com/github/OsvaldoUfla/Dijkstra-Codigo-exemplo/blob/main/07_02_Dijkstra.ipynb\" target=\"_parent\"><img src=\"https://colab.research.google.com/assets/colab-badge.svg\" alt=\"Open In Colab\"/></a>"
      ]
    },
    {
      "cell_type": "markdown",
      "source": [
        "# Algoritmo de Dijkstra"
      ],
      "metadata": {
        "id": "lJyX8EO87hoo"
      }
    },
    {
      "cell_type": "markdown",
      "source": [
        "## Motivação\n",
        "\n",
        "O esquema a seguir representa os caminhos que ligam diversas localidades por onde devem passar o mosqueteiro D'Artagnan, que está repleto de emboscadas. Os números representam a probabilidade $\\frac{x}{10}$ de sucesso de ultrapassar os trechos. Por exemplo, entre os vértices $2$ e $4$, a probabilidade de sucesso é de $70\\%$. Qual é a probabilidade de sucesso de D'Artagnan de $1$ até os outros vértices? "
      ],
      "metadata": {
        "id": "7d7fk5iX7mib"
      }
    },
    {
      "cell_type": "markdown",
      "source": [
        "## Implementação\n",
        "\n",
        "O problema acima pode ser resolvido através do Algoritmo de Dijkstra, pois se trata de uma adaptação do problema de caminho mais curto de *fonte única*. \n",
        "\n",
        "$G=(V,E)$ trata-se de um grafo ponderado e orientado, em que os pesos dos arcos indicam a probabilidade de sucesso de ultrapassar cada trecho. Como Dijkstra visa minimizar o caminho mais curto, propõe-se a resolução do problema minizando o fracasso, dado por $1-\\frac{x}{10}$. O vértice de origem é dado pelo vértice $1 \\in V$.\n",
        "\n",
        "Abaixo, segue uma sugestão de código para resolver o problema. **Note:** como pretende-se minimizar a probabilidade de fracasso, a atualização do valor da estimativa do menor caminho da origem  passando pelo arco $(u,v)$ deve considerar o produto de $d[u]$ por $w_{uv}$, em que $w_{uv}$ é o peso do arco $(u,v)$."
      ],
      "metadata": {
        "id": "5vrOo4978SIZ"
      }
    },
    {
      "cell_type": "code",
      "source": [
        "%%writefile dijkstra.cpp\n",
        "#include<iostream>\n",
        "#include<vector>\n",
        "#include<queue>\n",
        "#include<utility>\n",
        "#include<functional>\n",
        "using namespace std;\n",
        "\n",
        "/*\n",
        " * Variaveis globais\n",
        " */\n",
        "\n",
        "// lista de adjacencia\n",
        "vector<pair<int, double>>* LA;\n",
        "\n",
        "// numero de vertices do grafo\n",
        "int n;\n",
        "\n",
        "// numeor de arestas do grafo\n",
        "int m;\n",
        "\n",
        "// distancia da origem \"org\" a cada vertice do grafo\n",
        "vector<double> d;\n",
        "\n",
        "int dijkstra(int org)\n",
        "{\n",
        "    d.assign(n, 1.0);\n",
        "    \n",
        "    // a distance da origem \"org\" eh sempre zero\n",
        "    d[org] = 1.0;\n",
        "    \n",
        "    // heap que auxilia na obtencao do vertice com maior prioridade, a cada iteracao\n",
        "    priority_queue< pair<double, int>, vector<pair<double, int>>, greater<pair<double, int>> > heap;\n",
        "\n",
        "    // primeiro par inserido na heap: \"org\" com custo zero\n",
        "    heap.push(make_pair(1.0, org));\n",
        " \n",
        "    vector<bool> visitado;\n",
        "    visitado.assign(n, false);\n",
        " \n",
        "    // o algoritmo para quando a heap estiver vazia\n",
        "    while(!heap.empty())\n",
        "    {\n",
        "        pair<double, int> vertice = heap.top();\n",
        "        heap.pop();\n",
        "\n",
        "        double distancia = vertice.first;\n",
        "        int u = vertice.second;\n",
        "     \n",
        "        if(visitado[u]) // \"u\" jah foi explorado\n",
        "          continue;\n",
        "     \n",
        "        visitado[u] = true;\n",
        "     \n",
        "        double custo;\n",
        "        for(int j = 0; j < (int) LA[u].size(); j++)\n",
        "        {\n",
        "            pair<int, double> vizinho = LA[u][j];\n",
        "            int v = vizinho.first;\n",
        "            double prob = vizinho.second;\n",
        "         \n",
        "            // tentativa de melhorar a estimativa de menor caminho da origem ao vertice v\n",
        "            custo = d[u] * prob;\n",
        "            if(custo < d[v]) \n",
        "            { \n",
        "                d[v] = custo; \n",
        "                heap.push(make_pair(d[v], v)); \n",
        "            }\n",
        "        }\n",
        "    }\n",
        "}\n",
        "\n",
        "int main()\n",
        "{\n",
        "    cin >> n >> m;\n",
        "   \n",
        "    LA = new vector<pair<int, double>>[n];\n",
        "    int u, v;\n",
        "    double p;\n",
        "    for(int i = 0; i < m; i++)\n",
        "    {\n",
        "        cin >> u >> v; \n",
        "        cin >> p;\n",
        "        u--;\n",
        "        v--;\n",
        "        LA[u].push_back(make_pair(v, 1.0 - p/10.0));\n",
        "    }\n",
        " \n",
        "    for(int i = 0; i < n; i++)\n",
        "    {\n",
        "        cout << \"vertice \" << i << \": \";\n",
        "        for(int j = 0; j < (int) LA[i].size(); j++)\n",
        "        {\n",
        "            cout << \"(\" << LA[i][j].first << \", \" << LA[i][j].second << \") \";\n",
        "        }\n",
        "        cout << endl;\n",
        "    }\n",
        "\n",
        "    dijkstra(0);\n",
        " \n",
        "    for(int i = 0; i < n; i++)\n",
        "      cout << \"d[\" << i + 1 << \"]: \" << 1.0 - d[i] << endl;\n",
        "\n",
        "    return 0;\n",
        "}"
      ],
      "metadata": {
        "id": "ugxPCQbQUfFH",
        "colab": {
          "base_uri": "https://localhost:8080/"
        },
        "outputId": "c86f3fc9-6bd1-4a24-d4d5-d91d9d5ebd0d"
      },
      "execution_count": null,
      "outputs": [
        {
          "output_type": "stream",
          "name": "stdout",
          "text": [
            "Overwriting dijkstra.cpp\n"
          ]
        }
      ]
    },
    {
      "cell_type": "markdown",
      "source": [
        "*Compilando o código*"
      ],
      "metadata": {
        "id": "8SVNR0UF-IRR"
      }
    },
    {
      "cell_type": "code",
      "source": [
        "%%script bash\n",
        "g++ dijkstra.cpp -o dijkstra"
      ],
      "metadata": {
        "id": "vRs-iYaE-I1e"
      },
      "execution_count": null,
      "outputs": []
    },
    {
      "cell_type": "markdown",
      "source": [
        "*Executando o código*"
      ],
      "metadata": {
        "id": "D5RYzPVg-PnC"
      }
    },
    {
      "cell_type": "code",
      "source": [
        "%%script bash\n",
        "echo -e \"12 17\\n1 2 9\\n1 3 8\\n2 4 7\\n3 4 7\\n3 5 8\\n4 6 3\\n4 7 9\\n5 6 5\\n5 7 6\\n6 8 1\\n6 9 4\\n7 9 1\\n8 10 2\\n9 10 5\\n9 11 9\\n10 12 6\\n11 12 1\\n\" > 01.in\n",
        "./dijkstra < 01.in"
      ],
      "metadata": {
        "colab": {
          "base_uri": "https://localhost:8080/"
        },
        "id": "TjGUK4fg-R5J",
        "outputId": "f923851e-45b0-442c-bc4d-b696d6d7fd60"
      },
      "execution_count": null,
      "outputs": [
        {
          "output_type": "stream",
          "name": "stdout",
          "text": [
            "vertice 0: (1, 0.1) (2, 0.2) \n",
            "vertice 1: (3, 0.3) \n",
            "vertice 2: (3, 0.3) (4, 0.2) \n",
            "vertice 3: (5, 0.7) (6, 0.1) \n",
            "vertice 4: (5, 0.5) (6, 0.4) \n",
            "vertice 5: (7, 0.9) (8, 0.6) \n",
            "vertice 6: (8, 0.9) \n",
            "vertice 7: (9, 0.8) \n",
            "vertice 8: (9, 0.5) (10, 0.1) \n",
            "vertice 9: (11, 0.4) \n",
            "vertice 10: (11, 0.9) \n",
            "vertice 11: \n",
            "d[1]: 0\n",
            "d[2]: 0.9\n",
            "d[3]: 0.8\n",
            "d[4]: 0.97\n",
            "d[5]: 0.96\n",
            "d[6]: 0.98\n",
            "d[7]: 0.997\n",
            "d[8]: 0.9811\n",
            "d[9]: 0.9973\n",
            "d[10]: 0.99865\n",
            "d[11]: 0.99973\n",
            "d[12]: 0.999757\n"
          ]
        }
      ]
    },
    {
      "cell_type": "markdown",
      "source": [
        "### Complexidade\n",
        "\n",
        "Dado um grafo ponderado $G=(V,E)$, $|V|=n$ e $|E|=m$, a complexidade da nossa implementação se resume em:  \n",
        "\n",
        "* *loop while* de $m$ arestas na *heap*: veja que caso um vértice já tenha sido visitado, não há o que fazer, pois o comando continue não avança nas operações do *loop*. Assim, teremos operações a fazer efetivamente $n$ vezes. No pior caso, gastaremos $n$ repetições multiplicado pelas operações de obtenção do topo da *heap* e atualização da estrutura (*constante* + $nlog\\,n$) , busca dos vizinhos do vértice $u$ ($m$ operações, pelo Teorema do Aperto de Mãos) e atualização da *heap* ($log\\,n$, no pior caso).\n",
        "\n",
        "Logo, o Algoritmo de Dijkstra terá $O(mlog\\,n + nlog\\,n)$ operações."
      ],
      "metadata": {
        "id": "XRhljcYo-WpI"
      }
    }
  ]
}